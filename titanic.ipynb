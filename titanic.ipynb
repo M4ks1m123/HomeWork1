{
 "metadata": {
  "kernelspec": {
   "language": "python",
   "display_name": "Python 3",
   "name": "python3"
  },
  "language_info": {
   "name": "python",
   "version": "3.7.12",
   "mimetype": "text/x-python",
   "codemirror_mode": {
    "name": "ipython",
    "version": 3
   },
   "pygments_lexer": "ipython3",
   "nbconvert_exporter": "python",
   "file_extension": ".py"
  }
 },
 "nbformat_minor": 4,
 "nbformat": 4,
 "cells": [
  {
   "cell_type": "code",
   "source": [
    "import numpy as np # linear algebra\n",
    "import pandas as pd # data processing, CSV file I/O (e.g. pd.read_csv)\n",
    "import matplotlib.pyplot as plt\n",
    "import seaborn as sns\n",
    "\n",
    "\n",
    "import os\n",
    "for dirname, _, filenames in os.walk('/kaggle/input'):\n",
    "    for filename in filenames:\n",
    "        print(os.path.join(dirname, filename))\n",
    "        "
   ],
   "metadata": {
    "_uuid": "8f2839f25d086af736a60e9eeb907d3b93b6e0e5",
    "_cell_guid": "b1076dfc-b9ad-4769-8c92-a6c4dae69d19",
    "execution": {
     "iopub.status.busy": "2022-07-17T17:17:56.100483Z",
     "iopub.execute_input": "2022-07-17T17:17:56.101255Z",
     "iopub.status.idle": "2022-07-17T17:17:57.234436Z",
     "shell.execute_reply.started": "2022-07-17T17:17:56.101142Z",
     "shell.execute_reply": "2022-07-17T17:17:57.233273Z"
    },
    "trusted": true,
    "pycharm": {
     "name": "#%%\n"
    }
   },
   "execution_count": 14,
   "outputs": []
  },
  {
   "cell_type": "code",
   "source": [
    "train_data = pd.read_csv(\"kaggle/input/titanic/train.csv\")\n",
    "test_data = pd.read_csv(\"kaggle/input/titanic/test.csv\")"
   ],
   "metadata": {
    "execution": {
     "iopub.status.busy": "2022-07-17T17:17:57.238462Z",
     "iopub.execute_input": "2022-07-17T17:17:57.238773Z",
     "iopub.status.idle": "2022-07-17T17:17:57.264509Z",
     "shell.execute_reply.started": "2022-07-17T17:17:57.238744Z",
     "shell.execute_reply": "2022-07-17T17:17:57.263591Z"
    },
    "trusted": true,
    "pycharm": {
     "name": "#%%\n"
    }
   },
   "execution_count": 15,
   "outputs": []
  },
  {
   "cell_type": "code",
   "source": [
    "women = train_data.loc[train_data.Sex == 'female'][\"Survived\"]\n",
    "rate_women = sum(women)/len(women)\n",
    "\n",
    "print(\"% of women who survived:\", rate_women)"
   ],
   "metadata": {
    "execution": {
     "iopub.status.busy": "2022-07-17T17:17:57.265963Z",
     "iopub.execute_input": "2022-07-17T17:17:57.266304Z",
     "iopub.status.idle": "2022-07-17T17:17:57.282050Z",
     "shell.execute_reply.started": "2022-07-17T17:17:57.266273Z",
     "shell.execute_reply": "2022-07-17T17:17:57.280878Z"
    },
    "trusted": true,
    "pycharm": {
     "name": "#%%\n"
    }
   },
   "execution_count": 16,
   "outputs": [
    {
     "name": "stdout",
     "output_type": "stream",
     "text": [
      "% of women who survived: 0.7420382165605095\n"
     ]
    }
   ]
  },
  {
   "cell_type": "code",
   "source": [
    "men = train_data.loc[train_data.Sex == 'male'][\"Survived\"]\n",
    "rate_men = sum(men)/len(men)\n",
    "\n",
    "print(\"% of men who survived:\", rate_men)"
   ],
   "metadata": {
    "execution": {
     "iopub.status.busy": "2022-07-17T17:17:57.286280Z",
     "iopub.execute_input": "2022-07-17T17:17:57.286703Z",
     "iopub.status.idle": "2022-07-17T17:17:57.298582Z",
     "shell.execute_reply.started": "2022-07-17T17:17:57.286670Z",
     "shell.execute_reply": "2022-07-17T17:17:57.297563Z"
    },
    "trusted": true,
    "pycharm": {
     "name": "#%%\n"
    }
   },
   "execution_count": 17,
   "outputs": [
    {
     "name": "stdout",
     "output_type": "stream",
     "text": [
      "% of men who survived: 0.18890814558058924\n"
     ]
    }
   ]
  },
  {
   "cell_type": "code",
   "source": [
    "from sklearn.ensemble import RandomForestClassifier\n",
    "\n",
    "y = train_data[\"Survived\"]\n",
    "\n",
    "features = [\"Pclass\", \"Sex\", \"SibSp\", \"Parch\"]\n",
    "X = pd.get_dummies(train_data[features])\n",
    "X_test = pd.get_dummies(test_data[features])\n",
    "\n",
    "model = RandomForestClassifier(n_estimators=100, max_depth=5, random_state=1)\n",
    "model.fit(X, y)\n",
    "predictions = model.predict(X_test)\n",
    "\n",
    "output = pd.DataFrame({'PassengerId': test_data.PassengerId, 'Survived': predictions})\n",
    "output.to_csv('kaggle/working/gender_submission.csv', index=False)"
   ],
   "metadata": {
    "execution": {
     "iopub.status.busy": "2022-07-17T17:17:57.300269Z",
     "iopub.execute_input": "2022-07-17T17:17:57.301682Z",
     "iopub.status.idle": "2022-07-17T17:17:58.041513Z",
     "shell.execute_reply.started": "2022-07-17T17:17:57.301635Z",
     "shell.execute_reply": "2022-07-17T17:17:58.040245Z"
    },
    "trusted": true,
    "pycharm": {
     "name": "#%%\n"
    }
   },
   "execution_count": 18,
   "outputs": []
  },
  {
   "cell_type": "code",
   "source": [
    "sns.countplot(x='Survived', hue='Sex', data=train_data)"
   ],
   "metadata": {
    "execution": {
     "iopub.status.busy": "2022-07-17T17:17:58.042939Z",
     "iopub.execute_input": "2022-07-17T17:17:58.043243Z",
     "iopub.status.idle": "2022-07-17T17:17:58.368449Z",
     "shell.execute_reply.started": "2022-07-17T17:17:58.043215Z",
     "shell.execute_reply": "2022-07-17T17:17:58.367606Z"
    },
    "trusted": true,
    "pycharm": {
     "name": "#%%\n"
    }
   },
   "execution_count": 19,
   "outputs": [
    {
     "data": {
      "text/plain": "<AxesSubplot:xlabel='Survived', ylabel='count'>"
     },
     "execution_count": 19,
     "metadata": {},
     "output_type": "execute_result"
    },
    {
     "data": {
      "text/plain": "<Figure size 432x288 with 1 Axes>",
      "image/png": "[encoded data removed]"
     },
     "metadata": {
      "needs_background": "light"
     },
     "output_type": "display_data"
    }
   ]
  },
  {
   "cell_type": "code",
   "source": [
    "output.head()"
   ],
   "metadata": {
    "execution": {
     "iopub.status.busy": "2022-07-17T17:17:58.369470Z",
     "iopub.execute_input": "2022-07-17T17:17:58.370330Z",
     "iopub.status.idle": "2022-07-17T17:17:58.382553Z",
     "shell.execute_reply.started": "2022-07-17T17:17:58.370295Z",
     "shell.execute_reply": "2022-07-17T17:17:58.381684Z"
    },
    "trusted": true,
    "pycharm": {
     "name": "#%%\n"
    }
   },
   "execution_count": 20,
   "outputs": [
    {
     "data": {
      "text/plain": "   PassengerId  Survived\n0          892         0\n1          893         1\n2          894         0\n3          895         0\n4          896         1",
      "text/html": "<div>\n<style scoped>\n    .dataframe tbody tr th:only-of-type {\n        vertical-align: middle;\n    }\n\n    .dataframe tbody tr th {\n        vertical-align: top;\n    }\n\n    .dataframe thead th {\n        text-align: right;\n    }\n</style>\n<table border=\"1\" class=\"dataframe\">\n  <thead>\n    <tr style=\"text-align: right;\">\n      <th></th>\n      <th>PassengerId</th>\n      <th>Survived</th>\n    </tr>\n  </thead>\n  <tbody>\n    <tr>\n      <th>0</th>\n      <td>892</td>\n      <td>0</td>\n    </tr>\n    <tr>\n      <th>1</th>\n      <td>893</td>\n      <td>1</td>\n    </tr>\n    <tr>\n      <th>2</th>\n      <td>894</td>\n      <td>0</td>\n    </tr>\n    <tr>\n      <th>3</th>\n      <td>895</td>\n      <td>0</td>\n    </tr>\n    <tr>\n      <th>4</th>\n      <td>896</td>\n      <td>1</td>\n    </tr>\n  </tbody>\n</table>\n</div>"
     },
     "execution_count": 20,
     "metadata": {},
     "output_type": "execute_result"
    }
   ]
  },
  {
   "cell_type": "code",
   "source": [
    "X.head()"
   ],
   "metadata": {
    "execution": {
     "iopub.status.busy": "2022-07-17T17:17:58.383965Z",
     "iopub.execute_input": "2022-07-17T17:17:58.385311Z",
     "iopub.status.idle": "2022-07-17T17:17:58.395498Z",
     "shell.execute_reply.started": "2022-07-17T17:17:58.385275Z",
     "shell.execute_reply": "2022-07-17T17:17:58.394461Z"
    },
    "trusted": true,
    "pycharm": {
     "name": "#%%\n"
    }
   },
   "execution_count": 21,
   "outputs": [
    {
     "data": {
      "text/plain": "   Pclass  SibSp  Parch  Sex_female  Sex_male\n0       3      1      0           0         1\n1       1      1      0           1         0\n2       3      0      0           1         0\n3       1      1      0           1         0\n4       3      0      0           0         1",
      "text/html": "<div>\n<style scoped>\n    .dataframe tbody tr th:only-of-type {\n        vertical-align: middle;\n    }\n\n    .dataframe tbody tr th {\n        vertical-align: top;\n    }\n\n    .dataframe thead th {\n        text-align: right;\n    }\n</style>\n<table border=\"1\" class=\"dataframe\">\n  <thead>\n    <tr style=\"text-align: right;\">\n      <th></th>\n      <th>Pclass</th>\n      <th>SibSp</th>\n      <th>Parch</th>\n      <th>Sex_female</th>\n      <th>Sex_male</th>\n    </tr>\n  </thead>\n  <tbody>\n    <tr>\n      <th>0</th>\n      <td>3</td>\n      <td>1</td>\n      <td>0</td>\n      <td>0</td>\n      <td>1</td>\n    </tr>\n    <tr>\n      <th>1</th>\n      <td>1</td>\n      <td>1</td>\n      <td>0</td>\n      <td>1</td>\n      <td>0</td>\n    </tr>\n    <tr>\n      <th>2</th>\n      <td>3</td>\n      <td>0</td>\n      <td>0</td>\n      <td>1</td>\n      <td>0</td>\n    </tr>\n    <tr>\n      <th>3</th>\n      <td>1</td>\n      <td>1</td>\n      <td>0</td>\n      <td>1</td>\n      <td>0</td>\n    </tr>\n    <tr>\n      <th>4</th>\n      <td>3</td>\n      <td>0</td>\n      <td>0</td>\n      <td>0</td>\n      <td>1</td>\n    </tr>\n  </tbody>\n</table>\n</div>"
     },
     "execution_count": 21,
     "metadata": {},
     "output_type": "execute_result"
    }
   ]
  }
 ]
}